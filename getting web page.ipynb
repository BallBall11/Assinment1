{
 "cells": [
  {
   "cell_type": "markdown",
   "metadata": {},
   "source": [
    "## 获取网页"
   ]
  },
  {
   "cell_type": "code",
   "execution_count": 1,
   "metadata": {},
   "outputs": [],
   "source": [
    "import requests\n",
    "url = 'https://wiki.biligame.com/ys/'\n",
    "char_name = '八重神子'\n",
    "headers = {'User-Agent': 'Mozilla/5.0 (Windows NT 6.1; WOW64) AppleWebKit/537.36 (KHTML, like Gecko)\\\n",
    "Chrome/55.0.2883.87 Safari/537.36'}\n",
    "r = requests.get(url + char_name, headers = headers)"
   ]
  },
  {
   "cell_type": "code",
   "execution_count": 4,
   "metadata": {},
   "outputs": [],
   "source": [
    "with open('output.html','w') as f:\n",
    "    f.write(r.text)"
   ]
  },
  {
   "cell_type": "code",
   "execution_count": 31,
   "metadata": {},
   "outputs": [
    {
     "name": "stdout",
     "output_type": "stream",
     "text": [
      "{'普通攻击·狐灵食罪式': []}\n",
      "{'野干役咒·杀生樱': []}\n",
      "{'大密法·天狐显真': []}\n",
      "{'神篱之御荫角色突破等级2解锁': []}\n",
      "{'启蜇之祝词角色突破等级4解锁': []}\n",
      "{'野狐说禅': []}\n"
     ]
    }
   ],
   "source": [
    "from bs4 import BeautifulSoup\n",
    "soup = BeautifulSoup(r.text)\n",
    "\n",
    "skill_list = []\n",
    "for i, skill_div in enumerate(soup.find_all('div',class_ = 'r-skill-bg')):\n",
    "    skill_name = skill_div.div.text[2:]\n",
    "    # print(skill_name)\n",
    "    table = skill_div.find('table')\n",
    "    # print(table)\n",
    "    skill_list.append({})\n",
    "    skill_ratio = skill_list[i]\n",
    "    for j, tr in enumerate(table.find_all('tr')):\n",
    "        skill_ratio[skill_name] = []\n",
    "        part_ratio = skill_ratio[skill_name]\n",
    "        for k, td in enumerate(tr.find_all('td')):\n",
    "            if td.text != '' and td.text != \"'\":\n",
    "                part_ratio.append(td.text)\n",
    "        # print(part_ratio)\n",
    "    # print(skill_ratio)\n",
    "\n",
    "for skill in skill_list:\n",
    "    print(skill)"
   ]
  },
  {
   "cell_type": "code",
   "execution_count": 35,
   "metadata": {},
   "outputs": [
    {
     "name": "stdout",
     "output_type": "stream",
     "text": [
      "[[0], [1], [2], [3], [4]]\n"
     ]
    }
   ],
   "source": [
    "a = []\n",
    "for i in range(5):\n",
    "    nl = []\n",
    "    nl.append(i)\n",
    "    a.append(nl)\n",
    "\n",
    "print(a)"
   ]
  },
  {
   "cell_type": "code",
   "execution_count": null,
   "metadata": {},
   "outputs": [],
   "source": []
  }
 ],
 "metadata": {
  "interpreter": {
   "hash": "412faa0d0f097222e9f5b3d5fa7d6781e3cf474186dea20d0e306c2b582438e6"
  },
  "kernelspec": {
   "display_name": "Python 3.8.12 ('PyHW')",
   "language": "python",
   "name": "python3"
  },
  "language_info": {
   "codemirror_mode": {
    "name": "ipython",
    "version": 3
   },
   "file_extension": ".py",
   "mimetype": "text/x-python",
   "name": "python",
   "nbconvert_exporter": "python",
   "pygments_lexer": "ipython3",
   "version": "3.8.12"
  },
  "orig_nbformat": 4
 },
 "nbformat": 4,
 "nbformat_minor": 2
}
