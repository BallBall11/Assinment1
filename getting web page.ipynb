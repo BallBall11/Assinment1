{
 "cells": [
  {
   "cell_type": "markdown",
   "metadata": {},
   "source": [
    "## 获取网页"
   ]
  },
  {
   "cell_type": "code",
   "execution_count": 24,
   "metadata": {},
   "outputs": [
    {
     "data": {
      "text/plain": [
       "False"
      ]
     },
     "execution_count": 24,
     "metadata": {},
     "output_type": "execute_result"
    }
   ],
   "source": [
    "import requests\n",
    "url = 'https://wiki.biligame.com/ys/'\n",
    "char_name = '刻晴'\n",
    "headers = {'User-Agent': 'Mozilla/5.0 (Windows NT 6.1; WOW64) AppleWebKit/537.36 (KHTML, like Gecko)\\\n",
    "Chrome/55.0.2883.87 Safari/537.36'}\n",
    "r = requests.get(url + char_name, headers = headers)\n",
    "r.status_code == 404"
   ]
  },
  {
   "cell_type": "code",
   "execution_count": 25,
   "metadata": {},
   "outputs": [
    {
     "name": "stdout",
     "output_type": "stream",
     "text": [
      "普通攻击·云来剑法\n",
      "一段伤害\t41%\t44.4%\t47.7%\t52.5%\t55.8%\t59.6%\t64.9%\t70.1%\t75.4%\t81.1%\t86.8%\t\n",
      "二段伤害\t41%\t44.4%\t47.7%\t52.5%\t55.8%\t59.6%\t64.9%\t70.1%\t75.4%\t81.1%\t86.8%\t\n",
      "三段伤害\t54.4%\t58.9%\t63.3%\t69.6%\t74.1%\t79.1%\t86.1%\t93.1%\t100.0%\t108.0%\t115.2%\t\n",
      "四段伤害\t31.5%+34.4%\t34%+37.2%\t36.6%+40.0%\t40.3%+44.0%\t42.8%+46.8%\t45.8%+50.0%\t49.8%+54.4%\t53.8%+58.8%\t57.8%+63.2%\t62.2%+68.0%\t66.6%+72.8%\t\n",
      "五段伤害\t67%\t72.4%\t77.9%\t85.7%\t91.1%\t97.4%\t106%\t115%\t123%\t132%\t142%\t\n",
      "重击伤害\t77%+86%\t83%+93%\t89.3%+100%\t98.2%+110%\t104%+117%\t112%+125%\t121%+136%\t131%+147%\t141%+158%\t152%+170%\t163%+182%\t\n",
      "下坠期间伤害\t64%\t69.1%\t74.3%\t81.8%\t87.0%\t92.9%\t101%\t109%\t117%\t126%\t135%\t\n",
      "低空/高空坠地冲击伤害\t128%/160%\t138%/173%\t149%/186%\t164%/204%\t174%/217%\t186%/232%\t202%/253%\t219%/273%\t235%/293%\t253%/316%\t271%/338%\t\n",
      "星斗归位\n",
      "雷楔伤害\t50%\t54.2%\t58.0%\t63.0%\t66.8%\t70.6%\t75.6%\t80.6%\t86.0%\t90.7%\t95.8%\t101%\t107%\t\n",
      "斩击伤害\t168%\t181%\t193%\t210%\t223%\t235%\t252%\t269%\t286%\t302%\t319%\t336%\t357%\t\n",
      "雷暴连斩伤害\t84%*2\t90.3%*2\t96.6%*2\t105%*2\t111%*2\t118%*2\t126%*2\t134%*2\t143%*2\t151%*2\t160%*2\t168%*2\t179%*2\t\n",
      "天街巡游\n",
      "技能伤害\t88.0%\t94.6%\t101%\t110%\t117%\t123%\t132%\t141%\t150%\t158%\t167%\t176%\t187%\t198%\t\n",
      "连斩伤害\t24.0%*8\t25.8%*8\t27.6%*8\t30.0%*8\t31.8%*8\t33.6%*8\t36.0%*8\t38.4%*8\t40.8%*8\t43.2%*8\t45.6%*8\t48.0%*8\t51.0%*8\t54.0%*8\t\n",
      "最后一击伤害\t189%\t203%\t217%\t236%\t250%\t264%\t283%\t302%\t321%\t340%\t359%\t378%\t401%\t425%\t\n"
     ]
    }
   ],
   "source": [
    "from bs4 import BeautifulSoup\n",
    "soup = BeautifulSoup(r.text)\n",
    "\n",
    "skill_list = {}\n",
    "for i, skill_div in enumerate(soup.find_all('div',class_ = 'r-skill-bg')):\n",
    "    skill_name = skill_div.div.text[2:]\n",
    "    # print(skill_name)\n",
    "    table = skill_div.find('table')\n",
    "    # print(table)\n",
    "    skill_ratio = {}\n",
    "    for j, tr in enumerate(table.find_all('tr')):\n",
    "        part_ratio = []\n",
    "        for k, td in enumerate(tr.find_all('td')):\n",
    "            if td.text != '' and td.text != \"'\":\n",
    "                part_ratio.append(td.text)\n",
    "        if part_ratio and part_ratio[0].find('伤害') > 0:\n",
    "            # print('part_ratio = ',part_ratio)\n",
    "            skill_ratio[part_ratio[0]] = part_ratio[1:]\n",
    "    # print(skill_ratio)\n",
    "    # print()\n",
    "    if skill_ratio:\n",
    "        skill_list[skill_name] = skill_ratio\n",
    "\n",
    "# print(skill_list)\n",
    "for skill,ratio in skill_list.items():\n",
    "    print(skill)\n",
    "    for part_name, part_ratio in ratio.items():\n",
    "        print(part_name,end='\\t')\n",
    "        for num in part_ratio:\n",
    "            print(num,end='\\t')\n",
    "        print()"
   ]
  },
  {
   "cell_type": "code",
   "execution_count": 21,
   "metadata": {},
   "outputs": [
    {
     "name": "stdout",
     "output_type": "stream",
     "text": [
      "{5: 1, 1: 2}\n"
     ]
    }
   ],
   "source": [
    "d = {}\n",
    "d[5] = 1\n",
    "d[1] = 2\n",
    "print(d)"
   ]
  },
  {
   "cell_type": "code",
   "execution_count": 35,
   "metadata": {},
   "outputs": [
    {
     "name": "stdout",
     "output_type": "stream",
     "text": [
      "['104.5%', '11%', '106%', '40.3%', '44.0%', '219%', '273%', '105%']\n"
     ]
    }
   ],
   "source": [
    "import re\n",
    "\n",
    "s = '104.5%+11%106%40.3%+44.0%219%/273%105%*2'\n",
    "pattern = re.compile(r'\\d+\\.\\d+%|\\d+%')\n",
    "l = pattern.findall(s)\n",
    "print(l)"
   ]
  },
  {
   "cell_type": "code",
   "execution_count": null,
   "metadata": {},
   "outputs": [],
   "source": []
  }
 ],
 "metadata": {
  "interpreter": {
   "hash": "412faa0d0f097222e9f5b3d5fa7d6781e3cf474186dea20d0e306c2b582438e6"
  },
  "kernelspec": {
   "display_name": "Python 3.8.12 ('PyHW')",
   "language": "python",
   "name": "python3"
  },
  "language_info": {
   "codemirror_mode": {
    "name": "ipython",
    "version": 3
   },
   "file_extension": ".py",
   "mimetype": "text/x-python",
   "name": "python",
   "nbconvert_exporter": "python",
   "pygments_lexer": "ipython3",
   "version": "3.8.12"
  },
  "orig_nbformat": 4
 },
 "nbformat": 4,
 "nbformat_minor": 2
}
